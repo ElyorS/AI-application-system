{
  "nbformat": 4,
  "nbformat_minor": 0,
  "metadata": {
    "colab": {
      "provenance": [],
      "authorship_tag": "ABX9TyMmJOnM7nuUyHijU6aZKrJP",
      "include_colab_link": true
    },
    "kernelspec": {
      "name": "python3",
      "display_name": "Python 3"
    },
    "language_info": {
      "name": "python"
    }
  },
  "cells": [
    {
      "cell_type": "markdown",
      "metadata": {
        "id": "view-in-github",
        "colab_type": "text"
      },
      "source": [
        "<a href=\"https://colab.research.google.com/github/ElyorS/AI-application-system/blob/main/12204556_AI_week10.ipynb\" target=\"_parent\"><img src=\"https://colab.research.google.com/assets/colab-badge.svg\" alt=\"Open In Colab\"/></a>"
      ]
    },
    {
      "cell_type": "code",
      "execution_count": 12,
      "metadata": {
        "colab": {
          "base_uri": "https://localhost:8080/"
        },
        "id": "19t9bmDXblhu",
        "outputId": "7eec9e73-4b2c-4027-d448-fc6a169ecfd4"
      },
      "outputs": [
        {
          "output_type": "stream",
          "name": "stdout",
          "text": [
            "ImageNet class: 273 , probability = 0.549\n",
            "ImageNet class: 225 , probability = 0.145\n",
            "ImageNet class: 173 , probability = 0.058\n",
            "ImageNet class: 246 , probability = 0.039\n",
            "ImageNet class: 227 , probability = 0.034\n"
          ]
        }
      ],
      "source": [
        "import torch\n",
        "import torchvision\n",
        "from torchvision import transforms\n",
        "from PIL import Image\n",
        "\n",
        "device = torch.device(\"cuda:0\" if torch.cuda.is_available() else \"cpu\")\n",
        "# Load and preprocess image.\n",
        "image = Image.open('/content/Carolina-Dog-standing-outdoors.jpg.webp')\n",
        "preprocess = transforms.Compose([\n",
        "    transforms.Resize((224, 224)),\n",
        "    transforms.ToTensor(),\n",
        "    transforms.Normalize(mean=[0.485, 0.456, 0.406], std=[0.229, 0.224, 0.225])]) # Parameters are documented at pytorch.org\n",
        "# Convert to 4-dimensional tensor.\n",
        "input_tensor = preprocess(image)\n",
        "inputs = input_tensor.unsqueeze(0)\n",
        "# Load the pre-trained model.\n",
        "model = torchvision.models.resnet50(weights=torchvision.models.ResNet50_Weights.IMAGENET1K_V1)\n",
        "model.eval()\n",
        "# Transfer model to GPU.\n",
        "model.to(device)\n",
        "# Do prediction.\n",
        "inputs = inputs.to(device)\n",
        "with torch.no_grad():\n",
        "    outputs = model(inputs)\n",
        "# Convert to probabilities, since final SoftMax activation is not in pretrained model.\n",
        "probabilities = torch.nn.functional.softmax(outputs[0], dim=0)\n",
        "# Print class ID for top 5 predictions.\n",
        "_, indices = torch.sort(probabilities, descending=True)\n",
        "for i in range(0, 5):\n",
        "  print('ImageNet class:', indices[i].item(), ', probability = %4.3f' % probabilities[indices[i]].item())\n",
        "# Show image.\n",
        "image.show()"
      ]
    }
  ]
}