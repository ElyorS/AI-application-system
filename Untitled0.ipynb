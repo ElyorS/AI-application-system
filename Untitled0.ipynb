{
  "nbformat": 4,
  "nbformat_minor": 0,
  "metadata": {
    "colab": {
      "provenance": [],
      "authorship_tag": "ABX9TyMeWzgF4m6qzYovq9LVWj73",
      "include_colab_link": true
    },
    "kernelspec": {
      "name": "python3",
      "display_name": "Python 3"
    },
    "language_info": {
      "name": "python"
    }
  },
  "cells": [
    {
      "cell_type": "markdown",
      "metadata": {
        "id": "view-in-github",
        "colab_type": "text"
      },
      "source": [
        "<a href=\"https://colab.research.google.com/github/ElyorS/AI-application-system/blob/main/Untitled0.ipynb\" target=\"_parent\"><img src=\"https://colab.research.google.com/assets/colab-badge.svg\" alt=\"Open In Colab\"/></a>"
      ]
    },
    {
      "cell_type": "code",
      "execution_count": 21,
      "metadata": {
        "id": "PM-NtKuA1rg1"
      },
      "outputs": [],
      "source": [
        "import numpy as np\n",
        "\n",
        "np.random.seed(3) # To make repeatable\n",
        "\n",
        "LEARNING_RATE = 0.1\n",
        "\n",
        "index_list = [0, 1, 2] # Used to randomize order\n",
        "\n",
        "# Define training examples.\n",
        "\n",
        "x_train = [np.array([1.0, -1.0, -1.0]),\n",
        "           np.array([1.0,1.0, -1.0]),\n",
        "           np.array([1.0,1.0, 1.0])]\n",
        "y_train=[0.0,1.0,1.0,0.0] #Output(groundtruth)"
      ]
    },
    {
      "cell_type": "code",
      "source": [
        "def neuron_w(input_count):\n",
        "  weights = np.zeros(input_count+1)\n",
        "  for i in range(1,\n",
        "  (input_count+1)):\n",
        "     weights[i] = np.random.uniform(-1.0, 1.0)\n",
        "  return weights\n",
        "n_w = [neuron_w(2), neuron_w(2), neuron_w(2)]\n",
        "n_y = [0, 0, 0]\n",
        "n_error = [0, 0, 0]"
      ],
      "metadata": {
        "id": "_sr3ym_23pyJ"
      },
      "execution_count": 22,
      "outputs": []
    },
    {
      "cell_type": "code",
      "source": [
        "def show_learning():\n",
        "       print('Current weights:')\n",
        "       for i, w in enumerate(n_w):\n",
        "           print('neuron ', i, ': w0 =', '%5.2f' % w[0], ', w1 =', '%5.2f' % w[1], ', w2 =','%5.2f' % w[2])\n",
        "           print('----------------')\n",
        "def forward_pass(x):\n",
        "  global n_y\n",
        "  n_y[0] = np.tanh(np.dot(n_w[0], x)) # Neuron 0\n",
        "  n_y[1] = np.tanh(np.dot(n_w[1], x)) # Neuron 1\n",
        "  n2_inputs = np.array([1.0, n_y[0], n_y[1]]) # 1.0 is bias\n",
        "  z2 = np.dot(n_w[2], n2_inputs)\n",
        "  n_y[2] = 1.0 / (1.0 + np.exp(-z2))"
      ],
      "metadata": {
        "id": "96iCBr9Z4hv4"
      },
      "execution_count": 23,
      "outputs": []
    },
    {
      "cell_type": "code",
      "source": [
        "def backward_pass(y_truth):\n",
        "  global n_error\n",
        "  error_prime = -(y_truth - n_y[2]) # Derivative of loss-func\n",
        "  derivative = n_y[2] * (1.0 - n_y[2]) # Logistic derivative\n",
        "  n_error[2] = error_prime * derivative\n",
        "  derivative = 1.0 - n_y[0]**2 # tanh derivative\n",
        "  n_error[0] = n_w[2][1] * n_error[2] * derivative\n",
        "  derivative = 1.0 - n_y[1]**2 # tanh derivative\n",
        "  n_error[1] = n_w[2][2] * n_error[2] * derivative\n",
        "\n",
        "def adjust_weights(x):\n",
        "\n",
        "  global n_w\n",
        "  n_w[0] -= (x * LEARNING_RATE * n_error[0])\n",
        "  n_w[1] -= (x * LEARNING_RATE * n_error[1])\n",
        "  n2_inputs = np.array([1.0, n_y[0], n_y[1]]) # 1.0 is bias\n",
        "  n_w[2] -= (n2_inputs * LEARNING_RATE * n_error[2])"
      ],
      "metadata": {
        "id": "JlLxrfcM5qPL"
      },
      "execution_count": 24,
      "outputs": []
    },
    {
      "cell_type": "code",
      "source": [
        "# Network training loop.\n",
        "all_correct = False\n",
        "while not all_correct: # Train until converged\n",
        "    all_correct = True\n",
        "    np.random.shuffle(index_list) # Randomize order\n",
        "    for i in index_list: # Train all examples\n",
        "        forward_pass(x_train[i])\n",
        "        backward_pass(y_train[i])\n",
        "        adjust_weights(x_train[i])\n",
        "        show_learning() # Show updated weights\n",
        "    for i in range(len(x_train[i])): # Check if converged\n",
        "        forward_pass(x_train[i])\n",
        "        print('x1 =', '%4.1f' % x_train[i][1], 'x2', '%4.1f' % x_train[i][2], ', y=', '%.4f' % n_y[2])\n",
        "    if(((y_train[i] < 0.5) and (n_y[2] > 0.5))\n",
        "           or ((y_train[i] >= 0.5) and (n_y[2] < 0.5))):\n",
        "        all_correct = False"
      ],
      "metadata": {
        "id": "_CayF0HR93v2",
        "outputId": "7d37ef72-3c89-4c91-d555-0d388dbc7d05",
        "colab": {
          "base_uri": "https://localhost:8080/"
        }
      },
      "execution_count": 25,
      "outputs": [
        {
          "output_type": "stream",
          "name": "stdout",
          "text": [
            "Current weights:\n",
            "neuron  0 : w0 = -0.01 , w1 =  0.11 , w2 =  0.42\n",
            "----------------\n",
            "neuron  1 : w0 = -0.01 , w1 = -0.41 , w2 =  0.03\n",
            "----------------\n",
            "neuron  2 : w0 = -0.01 , w1 =  0.79 , w2 =  0.79\n",
            "----------------\n",
            "Current weights:\n",
            "neuron  0 : w0 = -0.00 , w1 =  0.12 , w2 =  0.43\n",
            "----------------\n",
            "neuron  1 : w0 = -0.00 , w1 = -0.40 , w2 =  0.04\n",
            "----------------\n",
            "neuron  2 : w0 = -0.00 , w1 =  0.80 , w2 =  0.78\n",
            "----------------\n",
            "Current weights:\n",
            "neuron  0 : w0 =  0.01 , w1 =  0.13 , w2 =  0.42\n",
            "----------------\n",
            "neuron  1 : w0 =  0.01 , w1 = -0.39 , w2 =  0.03\n",
            "----------------\n",
            "neuron  2 : w0 =  0.01 , w1 =  0.79 , w2 =  0.78\n",
            "----------------\n",
            "x1 = -1.0 x2 -1.0 , y= 0.4759\n",
            "x1 =  1.0 x2 -1.0 , y= 0.3760\n",
            "x1 =  1.0 x2  1.0 , y= 0.5378\n"
          ]
        }
      ]
    }
  ]
}